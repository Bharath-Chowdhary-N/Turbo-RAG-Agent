version https://git-lfs.github.com/spec/v1
oid sha256:2a2d1f5ec29e4ee0dbfb05b64b41ba9fc8257365ba6e89eab6af265b777e86db
size 570493
